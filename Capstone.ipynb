version https://git-lfs.github.com/spec/v1
oid sha256:45c132445051bdcbcbd0a24d49aba9d54390d0fdc6b56ca8b085e3d67e5bc9d4
size 285416303
