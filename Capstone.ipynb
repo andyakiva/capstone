version https://git-lfs.github.com/spec/v1
oid sha256:5555e7d1d976c19cf169b4c7d09a080696c7802d804bf046d5560ece3f015ec6
size 285241475
