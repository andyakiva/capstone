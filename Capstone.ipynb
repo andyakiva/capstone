version https://git-lfs.github.com/spec/v1
oid sha256:2082b0171f0be4b0d6157eec39784b19c2d9fca6d3d8075fa89c2430b1b25a8b
size 285241549
