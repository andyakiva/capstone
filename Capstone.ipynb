version https://git-lfs.github.com/spec/v1
oid sha256:a510824700cc747fc2fe0c9be178dda27ac854132c6b58c789af9fa8baa5e9fe
size 20228
